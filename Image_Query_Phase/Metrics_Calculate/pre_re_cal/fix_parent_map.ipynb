{
 "cells": [
  {
   "cell_type": "code",
   "execution_count": 1,
   "metadata": {},
   "outputs": [],
   "source": [
    "import pandas as pd\n",
    "import numpy as np\n",
    "import matplotlib.pyplot as plt"
   ]
  },
  {
   "cell_type": "code",
   "execution_count": 6,
   "metadata": {},
   "outputs": [],
   "source": [
    "parent_map = pd.read_csv('parent_map.csv')\n",
    "parent_map.head()\n",
    "#reverse columns\n",
    "parent_map = parent_map[['Parent', 'Child']]\n",
    "parent_map.head()\n",
    "\n",
    "#create another dataframe save child as a list\n",
    "child_map = parent_map.groupby('Parent')['Child'].apply(list).reset_index()\n",
    "child_map.head()\n",
    "\n",
    "#save the child_map\n",
    "child_map.to_csv('child_map.csv', index=False)\n"
   ]
  }
 ],
 "metadata": {
  "kernelspec": {
   "display_name": "Python 3",
   "language": "python",
   "name": "python3"
  },
  "language_info": {
   "codemirror_mode": {
    "name": "ipython",
    "version": 3
   },
   "file_extension": ".py",
   "mimetype": "text/x-python",
   "name": "python",
   "nbconvert_exporter": "python",
   "pygments_lexer": "ipython3",
   "version": "3.12.6"
  }
 },
 "nbformat": 4,
 "nbformat_minor": 2
}
