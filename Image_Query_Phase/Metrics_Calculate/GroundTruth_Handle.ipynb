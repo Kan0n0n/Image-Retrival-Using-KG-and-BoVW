{
 "cells": [
  {
   "cell_type": "code",
   "execution_count": 1,
   "metadata": {},
   "outputs": [],
   "source": [
    "import pandas as pd\n",
    "import numpy as np\n",
    "import matplotlib.pyplot as plt\n",
    "import json\n",
    "import os\n",
    "import csv"
   ]
  },
  {
   "cell_type": "markdown",
   "metadata": {},
   "source": [
    "Read ground truth from the input and compare it with the output."
   ]
  },
  {
   "cell_type": "code",
   "execution_count": 2,
   "metadata": {},
   "outputs": [],
   "source": [
    "ground_truth = pd.read_csv('../../data_files/train-annotations-human-imagelabels-boxable.csv')\n",
    "neo4j_data = pd.read_csv('../../data_files/export.csv')"
   ]
  },
  {
   "cell_type": "code",
   "execution_count": 3,
   "metadata": {},
   "outputs": [
    {
     "name": "stdout",
     "output_type": "stream",
     "text": [
      "            ImageID        Source  LabelName  Confidence\n",
      "0  000002b66c9c498e  verification  /m/014j1m           0\n",
      "1  000002b66c9c498e  verification  /m/014sv8           1\n",
      "2  000002b66c9c498e  verification   /m/01599           0\n",
      "3  000002b66c9c498e  verification   /m/015p6           0\n",
      "4  000002b66c9c498e  verification  /m/015x4r           0\n"
     ]
    },
    {
     "data": {
      "text/plain": [
       "(8996795, 4)"
      ]
     },
     "execution_count": 3,
     "metadata": {},
     "output_type": "execute_result"
    }
   ],
   "source": [
    "print(ground_truth.head())\n",
    "ground_truth.shape"
   ]
  },
  {
   "cell_type": "code",
   "execution_count": 4,
   "metadata": {},
   "outputs": [
    {
     "name": "stdout",
     "output_type": "stream",
     "text": [
      "['verification' 'crowdsource-verification']\n",
      "[0 1]\n"
     ]
    }
   ],
   "source": [
    "source = ground_truth['Source'].unique()\n",
    "print(source)\n",
    "conf = ground_truth['Confidence'].unique()\n",
    "print(conf)"
   ]
  },
  {
   "cell_type": "markdown",
   "metadata": {},
   "source": [
    "Remove all row with confidence = 0 and remove column confidence."
   ]
  },
  {
   "cell_type": "code",
   "execution_count": 5,
   "metadata": {},
   "outputs": [
    {
     "name": "stdout",
     "output_type": "stream",
     "text": [
      "Old Shape: (8996795, 4)\n",
      "New Shape: (6622219, 4)\n",
      "             ImageID        Source  LabelName\n",
      "1   000002b66c9c498e  verification  /m/014sv8\n",
      "8   000002b66c9c498e  verification  /m/01bl7v\n",
      "9   000002b66c9c498e  verification  /m/01d40f\n",
      "11  000002b66c9c498e  verification  /m/01g317\n",
      "15  000002b66c9c498e  verification  /m/01mzpv\n"
     ]
    },
    {
     "name": "stderr",
     "output_type": "stream",
     "text": [
      "C:\\Users\\Admin\\AppData\\Local\\Temp\\ipykernel_1552\\127647037.py:4: SettingWithCopyWarning: \n",
      "A value is trying to be set on a copy of a slice from a DataFrame\n",
      "\n",
      "See the caveats in the documentation: https://pandas.pydata.org/pandas-docs/stable/user_guide/indexing.html#returning-a-view-versus-a-copy\n",
      "  ground_truth_filtered.drop(['Confidence'], axis=1, inplace=True)\n"
     ]
    }
   ],
   "source": [
    "ground_truth_filtered = ground_truth[ground_truth['Confidence'] == 1]\n",
    "print('Old Shape: ' + str(ground_truth.shape))\n",
    "print('New Shape: ' + str(ground_truth_filtered.shape))\n",
    "ground_truth_filtered.drop(['Confidence'], axis=1, inplace=True)\n",
    "print(ground_truth_filtered.head())"
   ]
  },
  {
   "cell_type": "code",
   "execution_count": 6,
   "metadata": {},
   "outputs": [
    {
     "name": "stdout",
     "output_type": "stream",
     "text": [
      "             ImageID  LabelName\n",
      "1   000002b66c9c498e  /m/014sv8\n",
      "8   000002b66c9c498e  /m/01bl7v\n",
      "9   000002b66c9c498e  /m/01d40f\n",
      "11  000002b66c9c498e  /m/01g317\n",
      "15  000002b66c9c498e  /m/01mzpv\n"
     ]
    },
    {
     "name": "stderr",
     "output_type": "stream",
     "text": [
      "C:\\Users\\Admin\\AppData\\Local\\Temp\\ipykernel_1552\\1417893835.py:1: SettingWithCopyWarning: \n",
      "A value is trying to be set on a copy of a slice from a DataFrame\n",
      "\n",
      "See the caveats in the documentation: https://pandas.pydata.org/pandas-docs/stable/user_guide/indexing.html#returning-a-view-versus-a-copy\n",
      "  ground_truth_filtered.drop(['Source'], axis=1, inplace=True)\n"
     ]
    }
   ],
   "source": [
    "ground_truth_filtered.drop(['Source'], axis=1, inplace=True)\n",
    "print(ground_truth_filtered.head())"
   ]
  },
  {
   "cell_type": "code",
   "execution_count": 7,
   "metadata": {},
   "outputs": [
    {
     "name": "stdout",
     "output_type": "stream",
     "text": [
      "     /m/011k07    Tortoise\n",
      "0  /m/011q46kg   Container\n",
      "1    /m/012074      Magpie\n",
      "2    /m/0120dh  Sea turtle\n",
      "3    /m/01226z    Football\n",
      "4    /m/012n7d   Ambulance\n"
     ]
    }
   ],
   "source": [
    "class_descriptions = pd.read_csv('../../data_files/class-descriptions-boxable.csv')\n",
    "print(class_descriptions.head())"
   ]
  },
  {
   "cell_type": "code",
   "execution_count": 8,
   "metadata": {},
   "outputs": [
    {
     "name": "stdout",
     "output_type": "stream",
     "text": [
      "   LabelName Description\n",
      "0  /m/011k07    Tortoise\n",
      "     LabelName Description\n",
      "0    /m/011k07    Tortoise\n",
      "1  /m/011q46kg   Container\n",
      "2    /m/012074      Magpie\n",
      "3    /m/0120dh  Sea turtle\n",
      "4    /m/01226z    Football\n"
     ]
    }
   ],
   "source": [
    "# Step 1: Save the current column names as they're actually data\n",
    "first_row = pd.DataFrame([class_descriptions.columns.tolist()], columns=['LabelName', 'Description'])\n",
    "\n",
    "print(first_row)\n",
    "\n",
    "# Step 2: Rename the columns properly\n",
    "class_descriptions.columns = ['LabelName', 'Description']\n",
    "\n",
    "# Step 3: Concatenate the saved data row with the original dataframe\n",
    "class_descriptions = pd.concat([first_row, class_descriptions], ignore_index=True)\n",
    "\n",
    "print(class_descriptions.head())"
   ]
  },
  {
   "cell_type": "code",
   "execution_count": 9,
   "metadata": {},
   "outputs": [
    {
     "name": "stdout",
     "output_type": "stream",
     "text": [
      "     LabelName Description\n",
      "0    /m/011k07    Tortoise\n",
      "1  /m/011q46kg   Container\n",
      "2    /m/012074      Magpie\n",
      "3    /m/0120dh  Sea turtle\n",
      "4    /m/01226z    Football\n"
     ]
    }
   ],
   "source": [
    "#convert class to number\n",
    "sorted(class_descriptions['Description'].unique())\n",
    "print(class_descriptions.head())"
   ]
  },
  {
   "cell_type": "code",
   "execution_count": 10,
   "metadata": {},
   "outputs": [],
   "source": [
    "def convert_descriptions_to_numbers(df, description_column='Description'):\n",
    "    # Get unique descriptions and sort alphabetically\n",
    "    all_descriptions = []\n",
    "    \n",
    "    # Extract all descriptions (handling comma-separated values if needed)\n",
    "    for desc in df[description_column]:\n",
    "        if isinstance(desc, str) and ',' in desc:\n",
    "            all_descriptions.extend([d.strip() for d in desc.split(',')])\n",
    "        else:\n",
    "            all_descriptions.append(desc)\n",
    "    \n",
    "    # Get unique values and sort\n",
    "    unique_descriptions = sorted(set(all_descriptions))\n",
    "    \n",
    "    # Create mapping dictionary (1-indexed)\n",
    "    desc_to_num = {desc: i+1 for i, desc in enumerate(unique_descriptions)}\n",
    "    \n",
    "    # Create a new column with the numeric values\n",
    "    df['Description_Num'] = df[description_column].apply(\n",
    "        lambda x: [desc_to_num[d.strip()] for d in x.split(',')] if isinstance(x, str) and ',' in x else desc_to_num[x]\n",
    "    )\n",
    "    \n",
    "    return df, desc_to_num\n"
   ]
  },
  {
   "cell_type": "code",
   "execution_count": 11,
   "metadata": {},
   "outputs": [
    {
     "name": "stdout",
     "output_type": "stream",
     "text": [
      "     LabelName Description  Description_Num\n",
      "0    /m/011k07    Tortoise              545\n",
      "1  /m/011q46kg   Container              131\n",
      "2    /m/012074      Magpie              321\n",
      "3    /m/0120dh  Sea turtle              445\n",
      "4    /m/01226z    Football              202\n",
      "{'Accordion': 1, 'Adhesive tape': 2, 'Aircraft': 3, 'Airplane': 4, 'Alarm clock': 5, 'Alpaca': 6, 'Ambulance': 7, 'Animal': 8, 'Ant': 9, 'Antelope': 10, 'Apple': 11, 'Armadillo': 12, 'Artichoke': 13, 'Auto part': 14, 'Axe': 15, 'Backpack': 16, 'Bagel': 17, 'Baked goods': 18, 'Balance beam': 19, 'Ball': 20, 'Balloon': 21, 'Banana': 22, 'Band-aid': 23, 'Banjo': 24, 'Barge': 25, 'Barrel': 26, 'Baseball bat': 27, 'Baseball glove': 28, 'Bat (Animal)': 29, 'Bathroom accessory': 30, 'Bathroom cabinet': 31, 'Bathtub': 32, 'Beaker': 33, 'Bear': 34, 'Bed': 35, 'Bee': 36, 'Beehive': 37, 'Beer': 38, 'Beetle': 39, 'Bell pepper': 40, 'Belt': 41, 'Bench': 42, 'Bicycle': 43, 'Bicycle helmet': 44, 'Bicycle wheel': 45, 'Bidet': 46, 'Billboard': 47, 'Billiard table': 48, 'Binoculars': 49, 'Bird': 50, 'Blender': 51, 'Blue jay': 52, 'Boat': 53, 'Bomb': 54, 'Book': 55, 'Bookcase': 56, 'Boot': 57, 'Bottle': 58, 'Bottle opener': 59, 'Bow and arrow': 60, 'Bowl': 61, 'Bowling equipment': 62, 'Box': 63, 'Boy': 64, 'Brassiere': 65, 'Bread': 66, 'Briefcase': 67, 'Broccoli': 68, 'Bronze sculpture': 69, 'Brown bear': 70, 'Building': 71, 'Bull': 72, 'Burrito': 73, 'Bus': 74, 'Bust': 75, 'Butterfly': 76, 'Cabbage': 77, 'Cabinetry': 78, 'Cake': 79, 'Cake stand': 80, 'Calculator': 81, 'Camel': 82, 'Camera': 83, 'Can opener': 84, 'Canary': 85, 'Candle': 86, 'Candy': 87, 'Cannon': 88, 'Canoe': 89, 'Cantaloupe': 90, 'Car': 91, 'Carnivore': 92, 'Carrot': 93, 'Cart': 94, 'Cassette deck': 95, 'Castle': 96, 'Cat': 97, 'Cat furniture': 98, 'Caterpillar': 99, 'Cattle': 100, 'Ceiling fan': 101, 'Cello': 102, 'Centipede': 103, 'Chainsaw': 104, 'Chair': 105, 'Cheese': 106, 'Cheetah': 107, 'Chest of drawers': 108, 'Chicken': 109, 'Chime': 110, 'Chisel': 111, 'Chopsticks': 112, 'Christmas tree': 113, 'Clock': 114, 'Closet': 115, 'Clothing': 116, 'Coat': 117, 'Cocktail': 118, 'Cocktail shaker': 119, 'Coconut': 120, 'Coffee': 121, 'Coffee cup': 122, 'Coffee table': 123, 'Coffeemaker': 124, 'Coin': 125, 'Common fig': 126, 'Common sunflower': 127, 'Computer keyboard': 128, 'Computer monitor': 129, 'Computer mouse': 130, 'Container': 131, 'Convenience store': 132, 'Cookie': 133, 'Cooking spray': 134, 'Corded phone': 135, 'Cosmetics': 136, 'Couch': 137, 'Countertop': 138, 'Cowboy hat': 139, 'Crab': 140, 'Cream': 141, 'Cricket ball': 142, 'Crocodile': 143, 'Croissant': 144, 'Crown': 145, 'Crutch': 146, 'Cucumber': 147, 'Cupboard': 148, 'Curtain': 149, 'Cutting board': 150, 'Dagger': 151, 'Dairy Product': 152, 'Deer': 153, 'Desk': 154, 'Dessert': 155, 'Diaper': 156, 'Dice': 157, 'Digital clock': 158, 'Dinosaur': 159, 'Dishwasher': 160, 'Dog': 161, 'Dog bed': 162, 'Doll': 163, 'Dolphin': 164, 'Door': 165, 'Door handle': 166, 'Doughnut': 167, 'Dragonfly': 168, 'Drawer': 169, 'Dress': 170, 'Drill (Tool)': 171, 'Drink': 172, 'Drinking straw': 173, 'Drum': 174, 'Duck': 175, 'Dumbbell': 176, 'Eagle': 177, 'Earrings': 178, 'Egg (Food)': 179, 'Elephant': 180, 'Envelope': 181, 'Eraser': 182, 'Face powder': 183, 'Facial tissue holder': 184, 'Falcon': 185, 'Fashion accessory': 186, 'Fast food': 187, 'Fax': 188, 'Fedora': 189, 'Filing cabinet': 190, 'Fire hydrant': 191, 'Fireplace': 192, 'Fish': 193, 'Flag': 194, 'Flashlight': 195, 'Flower': 196, 'Flowerpot': 197, 'Flute': 198, 'Flying disc': 199, 'Food': 200, 'Food processor': 201, 'Football': 202, 'Football helmet': 203, 'Footwear': 204, 'Fork': 205, 'Fountain': 206, 'Fox': 207, 'French fries': 208, 'French horn': 209, 'Frog': 210, 'Fruit': 211, 'Frying pan': 212, 'Furniture': 213, 'Garden Asparagus': 214, 'Gas stove': 215, 'Giraffe': 216, 'Girl': 217, 'Glasses': 218, 'Glove': 219, 'Goat': 220, 'Goggles': 221, 'Goldfish': 222, 'Golf ball': 223, 'Golf cart': 224, 'Gondola': 225, 'Goose': 226, 'Grape': 227, 'Grapefruit': 228, 'Grinder': 229, 'Guacamole': 230, 'Guitar': 231, 'Hair dryer': 232, 'Hair spray': 233, 'Hamburger': 234, 'Hammer': 235, 'Hamster': 236, 'Hand dryer': 237, 'Handbag': 238, 'Handgun': 239, 'Harbor seal': 240, 'Harmonica': 241, 'Harp': 242, 'Harpsichord': 243, 'Hat': 244, 'Headphones': 245, 'Heater': 246, 'Hedgehog': 247, 'Helicopter': 248, 'Helmet': 249, 'High heels': 250, 'Hiking equipment': 251, 'Hippopotamus': 252, 'Home appliance': 253, 'Honeycomb': 254, 'Horizontal bar': 255, 'Horse': 256, 'Hot dog': 257, 'House': 258, 'Houseplant': 259, 'Human arm': 260, 'Human beard': 261, 'Human body': 262, 'Human ear': 263, 'Human eye': 264, 'Human face': 265, 'Human foot': 266, 'Human hair': 267, 'Human hand': 268, 'Human head': 269, 'Human leg': 270, 'Human mouth': 271, 'Human nose': 272, 'Humidifier': 273, 'Ice cream': 274, 'Indoor rower': 275, 'Infant bed': 276, 'Insect': 277, 'Invertebrate': 278, 'Ipod': 279, 'Isopod': 280, 'Jacket': 281, 'Jacuzzi': 282, 'Jaguar (Animal)': 283, 'Jeans': 284, 'Jellyfish': 285, 'Jet ski': 286, 'Jug': 287, 'Juice': 288, 'Kangaroo': 289, 'Kettle': 290, 'Kitchen & dining room table': 291, 'Kitchen appliance': 292, 'Kitchen knife': 293, 'Kitchen utensil': 294, 'Kitchenware': 295, 'Kite': 296, 'Knife': 297, 'Koala': 298, 'Ladder': 299, 'Ladle': 300, 'Ladybug': 301, 'Lamp': 302, 'Land vehicle': 303, 'Lantern': 304, 'Laptop': 305, 'Lavender (Plant)': 306, 'Lemon': 307, 'Leopard': 308, 'Light bulb': 309, 'Light switch': 310, 'Lighthouse': 311, 'Lily': 312, 'Limousine': 313, 'Lion': 314, 'Lipstick': 315, 'Lizard': 316, 'Lobster': 317, 'Loveseat': 318, 'Luggage and bags': 319, 'Lynx': 320, 'Magpie': 321, 'Mammal': 322, 'Man': 323, 'Mango': 324, 'Maple': 325, 'Maracas': 326, 'Marine invertebrates': 327, 'Marine mammal': 328, 'Measuring cup': 329, 'Mechanical fan': 330, 'Medical equipment': 331, 'Microphone': 332, 'Microwave oven': 333, 'Milk': 334, 'Miniskirt': 335, 'Mirror': 336, 'Missile': 337, 'Mixer': 338, 'Mixing bowl': 339, 'Mobile phone': 340, 'Monkey': 341, 'Moths and butterflies': 342, 'Motorcycle': 343, 'Mouse': 344, 'Muffin': 345, 'Mug': 346, 'Mule': 347, 'Mushroom': 348, 'Musical instrument': 349, 'Musical keyboard': 350, 'Nail (Construction)': 351, 'Necklace': 352, 'Nightstand': 353, 'Oboe': 354, 'Office building': 355, 'Office supplies': 356, 'Orange': 357, 'Organ (Musical Instrument)': 358, 'Ostrich': 359, 'Otter': 360, 'Oven': 361, 'Owl': 362, 'Oyster': 363, 'Paddle': 364, 'Palm tree': 365, 'Pancake': 366, 'Panda': 367, 'Paper cutter': 368, 'Paper towel': 369, 'Parachute': 370, 'Parking meter': 371, 'Parrot': 372, 'Pasta': 373, 'Pastry': 374, 'Peach': 375, 'Pear': 376, 'Pen': 377, 'Pencil case': 378, 'Pencil sharpener': 379, 'Penguin': 380, 'Perfume': 381, 'Person': 382, 'Personal care': 383, 'Personal flotation device': 384, 'Piano': 385, 'Picnic basket': 386, 'Picture frame': 387, 'Pig': 388, 'Pillow': 389, 'Pineapple': 390, 'Pitcher (Container)': 391, 'Pizza': 392, 'Pizza cutter': 393, 'Plant': 394, 'Plastic bag': 395, 'Plate': 396, 'Platter': 397, 'Plumbing fixture': 398, 'Polar bear': 399, 'Pomegranate': 400, 'Popcorn': 401, 'Porch': 402, 'Porcupine': 403, 'Poster': 404, 'Potato': 405, 'Power plugs and sockets': 406, 'Pressure cooker': 407, 'Pretzel': 408, 'Printer': 409, 'Pumpkin': 410, 'Punching bag': 411, 'Rabbit': 412, 'Raccoon': 413, 'Racket': 414, 'Radish': 415, 'Ratchet (Device)': 416, 'Raven': 417, 'Rays and skates': 418, 'Red panda': 419, 'Refrigerator': 420, 'Remote control': 421, 'Reptile': 422, 'Rhinoceros': 423, 'Rifle': 424, 'Ring binder': 425, 'Rocket': 426, 'Roller skates': 427, 'Rose': 428, 'Rugby ball': 429, 'Ruler': 430, 'Salad': 431, 'Salt and pepper shakers': 432, 'Sandal': 433, 'Sandwich': 434, 'Saucer': 435, 'Saxophone': 436, 'Scale': 437, 'Scarf': 438, 'Scissors': 439, 'Scoreboard': 440, 'Scorpion': 441, 'Screwdriver': 442, 'Sculpture': 443, 'Sea lion': 444, 'Sea turtle': 445, 'Seafood': 446, 'Seahorse': 447, 'Seat belt': 448, 'Segway': 449, 'Serving tray': 450, 'Sewing machine': 451, 'Shark': 452, 'Sheep': 453, 'Shelf': 454, 'Shellfish': 455, 'Shirt': 456, 'Shorts': 457, 'Shotgun': 458, 'Shower': 459, 'Shrimp': 460, 'Sink': 461, 'Skateboard': 462, 'Ski': 463, 'Skirt': 464, 'Skull': 465, 'Skunk': 466, 'Skyscraper': 467, 'Slow cooker': 468, 'Snack': 469, 'Snail': 470, 'Snake': 471, 'Snowboard': 472, 'Snowman': 473, 'Snowmobile': 474, 'Snowplow': 475, 'Soap dispenser': 476, 'Sock': 477, 'Sofa bed': 478, 'Sombrero': 479, 'Sparrow': 480, 'Spatula': 481, 'Spice rack': 482, 'Spider': 483, 'Spoon': 484, 'Sports equipment': 485, 'Sports uniform': 486, 'Squash (Plant)': 487, 'Squid': 488, 'Squirrel': 489, 'Stairs': 490, 'Stapler': 491, 'Starfish': 492, 'Stationary bicycle': 493, 'Stethoscope': 494, 'Stool': 495, 'Stop sign': 496, 'Strawberry': 497, 'Street light': 498, 'Stretcher': 499, 'Studio couch': 500, 'Submarine': 501, 'Submarine sandwich': 502, 'Suit': 503, 'Suitcase': 504, 'Sun hat': 505, 'Sunglasses': 506, 'Surfboard': 507, 'Sushi': 508, 'Swan': 509, 'Swim cap': 510, 'Swimming pool': 511, 'Swimwear': 512, 'Sword': 513, 'Syringe': 514, 'Table': 515, 'Table tennis racket': 516, 'Tablet computer': 517, 'Tableware': 518, 'Taco': 519, 'Tank': 520, 'Tap': 521, 'Tart': 522, 'Taxi': 523, 'Tea': 524, 'Teapot': 525, 'Teddy bear': 526, 'Telephone': 527, 'Television': 528, 'Tennis ball': 529, 'Tennis racket': 530, 'Tent': 531, 'Tiara': 532, 'Tick': 533, 'Tie': 534, 'Tiger': 535, 'Tin can': 536, 'Tire': 537, 'Toaster': 538, 'Toilet': 539, 'Toilet paper': 540, 'Tomato': 541, 'Tool': 542, 'Toothbrush': 543, 'Torch': 544, 'Tortoise': 545, 'Towel': 546, 'Tower': 547, 'Toy': 548, 'Traffic light': 549, 'Traffic sign': 550, 'Train': 551, 'Training bench': 552, 'Treadmill': 553, 'Tree': 554, 'Tree house': 555, 'Tripod': 556, 'Trombone': 557, 'Trousers': 558, 'Truck': 559, 'Trumpet': 560, 'Turkey': 561, 'Turtle': 562, 'Umbrella': 563, 'Unicycle': 564, 'Van': 565, 'Vase': 566, 'Vegetable': 567, 'Vehicle': 568, 'Vehicle registration plate': 569, 'Violin': 570, 'Volleyball (Ball)': 571, 'Waffle': 572, 'Waffle iron': 573, 'Wall clock': 574, 'Wardrobe': 575, 'Washing machine': 576, 'Waste container': 577, 'Watch': 578, 'Watercraft': 579, 'Watermelon': 580, 'Weapon': 581, 'Whale': 582, 'Wheel': 583, 'Wheelchair': 584, 'Whisk': 585, 'Whiteboard': 586, 'Willow': 587, 'Window': 588, 'Window blind': 589, 'Wine': 590, 'Wine glass': 591, 'Wine rack': 592, 'Winter melon': 593, 'Wok': 594, 'Woman': 595, 'Wood-burning stove': 596, 'Woodpecker': 597, 'Worm': 598, 'Wrench': 599, 'Zebra': 600, 'Zucchini': 601}\n"
     ]
    }
   ],
   "source": [
    "df, mapping =  convert_descriptions_to_numbers(class_descriptions)\n",
    "print(df.head())\n",
    "print(mapping)"
   ]
  },
  {
   "cell_type": "code",
   "execution_count": 12,
   "metadata": {},
   "outputs": [
    {
     "name": "stdout",
     "output_type": "stream",
     "text": [
      "            ImageID  LabelName Description  Description_Num\n",
      "0  000002b66c9c498e  /m/014sv8   Human eye              264\n",
      "1  000002b66c9c498e  /m/01bl7v         Boy               64\n",
      "2  000002b66c9c498e  /m/01d40f       Dress              170\n",
      "3  000002b66c9c498e  /m/01g317      Person              382\n",
      "4  000002b66c9c498e  /m/01mzpv       Chair              105\n"
     ]
    }
   ],
   "source": [
    "ground_truth_filtered = pd.merge(ground_truth_filtered, df, left_on='LabelName', right_on='LabelName')\n",
    "print(ground_truth_filtered.head())"
   ]
  },
  {
   "cell_type": "code",
   "execution_count": 13,
   "metadata": {},
   "outputs": [
    {
     "name": "stdout",
     "output_type": "stream",
     "text": [
      "{'ID': '0000253ea4ecbf19', 'Histogram': {'R': [[16218.0], [81872.0], [102812.0], [87187.0], [68959.0], [48212.0], [30968.0], [20341.0], [13956.0], [10808.0], [8943.0], [7782.0], [7143.0], [6687.0], [6091.0], [5837.0], [5554.0], [5662.0], [5594.0], [5553.0], [5727.0], [5846.0], [6036.0], [6352.0], [6948.0], [7575.0], [8382.0], [10874.0], [15664.0], [19988.0], [30502.0], [116359.0]], 'G': [[15489.0], [62008.0], [87836.0], [76381.0], [71294.0], [53350.0], [38654.0], [27393.0], [19388.0], [14189.0], [11656.0], [9716.0], [8669.0], [7725.0], [7012.0], [6599.0], [6167.0], [6079.0], [5800.0], [5802.0], [5824.0], [5876.0], [6031.0], [6337.0], [6765.0], [7456.0], [8077.0], [9153.0], [11139.0], [16531.0], [32234.0], [129802.0]], 'B': [[25453.0], [128156.0], [139637.0], [83363.0], [45725.0], [26615.0], [15913.0], [11312.0], [9078.0], [7713.0], [7013.0], [6432.0], [5851.0], [5529.0], [5294.0], [5176.0], [5217.0], [5100.0], [5136.0], [5197.0], [5325.0], [5459.0], [5667.0], [6133.0], [6480.0], [7176.0], [7857.0], [8780.0], [11158.0], [18674.0], [33119.0], [121694.0]]}}\n"
     ]
    }
   ],
   "source": [
    "dataset_id = json.load(open('../../data_files/img_hist.json'))\n",
    "print(dataset_id[0])"
   ]
  },
  {
   "cell_type": "code",
   "execution_count": 14,
   "metadata": {},
   "outputs": [
    {
     "name": "stdout",
     "output_type": "stream",
     "text": [
      "                 ID                                          Histogram\n",
      "0  0000253ea4ecbf19  {'R': [[16218.0], [81872.0], [102812.0], [8718...\n",
      "1  0000271195f2c007  {'R': [[67798.0], [60600.0], [42859.0], [35802...\n",
      "2  0000286a5c6a3eb5  {'R': [[14589.0], [45916.0], [51335.0], [34853...\n",
      "3  00003bfccf5f36c2  {'R': [[38459.0], [27541.0], [23055.0], [21334...\n",
      "4  000045257f66b9e2  {'R': [[12283.0], [35896.0], [55813.0], [50520...\n"
     ]
    }
   ],
   "source": [
    "dataset_id = pd.DataFrame(dataset_id)\n",
    "print(dataset_id.head())"
   ]
  },
  {
   "cell_type": "code",
   "execution_count": 15,
   "metadata": {},
   "outputs": [
    {
     "name": "stdout",
     "output_type": "stream",
     "text": [
      "            ImageID\n",
      "0  0000253ea4ecbf19\n",
      "1  0000271195f2c007\n",
      "2  0000286a5c6a3eb5\n",
      "3  00003bfccf5f36c2\n",
      "4  000045257f66b9e2\n"
     ]
    }
   ],
   "source": [
    "dataset_id_copy = dataset_id.copy()\n",
    "dataset_id_copy.rename(columns={'ID': 'ImageID'}, inplace=True)\n",
    "dataset_id_copy.drop(['Histogram'], axis=1, inplace=True)\n",
    "print(dataset_id_copy.head())"
   ]
  },
  {
   "cell_type": "code",
   "execution_count": 16,
   "metadata": {},
   "outputs": [
    {
     "data": {
      "text/plain": [
       "ImageID    105185\n",
       "dtype: int64"
      ]
     },
     "execution_count": 16,
     "metadata": {},
     "output_type": "execute_result"
    }
   ],
   "source": [
    "dataset_id_copy.count()"
   ]
  },
  {
   "cell_type": "code",
   "execution_count": 17,
   "metadata": {},
   "outputs": [
    {
     "name": "stdout",
     "output_type": "stream",
     "text": [
      "Old Shape: (6622219, 4)\n",
      "New Shape: (373952, 4)\n",
      "              ImageID  LabelName Description  Description_Num\n",
      "218  0000253ea4ecbf19   /m/01lrl   Carnivore               92\n",
      "219  0000253ea4ecbf19  /m/035r7c   Human leg              270\n",
      "220  0000253ea4ecbf19   /m/04rky      Mammal              322\n",
      "221  0000253ea4ecbf19   /m/05s2s       Plant              394\n",
      "222  0000253ea4ecbf19   /m/07j7r        Tree              554\n"
     ]
    }
   ],
   "source": [
    "new_filtered_ground_truth = ground_truth_filtered[ground_truth_filtered['ImageID'].isin(neo4j_data['image_Id'])]\n",
    "print('Old Shape: ' + str(ground_truth_filtered.shape))\n",
    "print('New Shape: ' + str(new_filtered_ground_truth.shape))\n",
    "print(new_filtered_ground_truth.head())"
   ]
  },
  {
   "cell_type": "code",
   "execution_count": 18,
   "metadata": {},
   "outputs": [],
   "source": [
    "# Group by imageid and collect descriptions in lists\n",
    "result = (new_filtered_ground_truth\n",
    "          .groupby('ImageID')\n",
    "          .agg({\n",
    "              'LabelName': 'first',  # Keep first labelname for each imageid\n",
    "              'Description': lambda x: x.tolist(),  # Collect all descriptions in a list\n",
    "              'Description_Num': lambda x: x.tolist()  # Collect all descriptions in a list\n",
    "          })\n",
    "          .reset_index())"
   ]
  },
  {
   "cell_type": "code",
   "execution_count": 19,
   "metadata": {},
   "outputs": [
    {
     "name": "stdout",
     "output_type": "stream",
     "text": [
      "            ImageID                                        Description  \\\n",
      "0  0000253ea4ecbf19  [Carnivore, Human leg, Mammal, Plant, Tree, Hu...   \n",
      "1  0000286a5c6a3eb5  [Human eye, Sunglasses, Shorts, Person, Human ...   \n",
      "2  00003bfccf5f36c2  [Person, Lantern, Chair, Table, Tree, Furnitur...   \n",
      "3  000045257f66b9e2  [Boy, Person, Cowboy hat, Hat, Fedora, Human b...   \n",
      "4  0000530c47410921                    [Toy, Bird, Duck, Tire, Animal]   \n",
      "\n",
      "                                     Description_Num  \n",
      "0                   [92, 270, 322, 394, 554, 265, 8]  \n",
      "1  [264, 506, 457, 382, 271, 221, 270, 263, 267, ...  \n",
      "2            [382, 304, 105, 515, 554, 213, 71, 588]  \n",
      "3  [64, 382, 139, 244, 189, 262, 505, 270, 595, 2...  \n",
      "4                             [548, 50, 175, 537, 8]  \n"
     ]
    }
   ],
   "source": [
    "result.drop(['LabelName'], axis=1, inplace=True)\n",
    "print(result.head())"
   ]
  },
  {
   "cell_type": "code",
   "execution_count": 20,
   "metadata": {},
   "outputs": [
    {
     "data": {
      "text/plain": [
       "(97273, 3)"
      ]
     },
     "execution_count": 20,
     "metadata": {},
     "output_type": "execute_result"
    }
   ],
   "source": [
    "result.shape"
   ]
  },
  {
   "cell_type": "code",
   "execution_count": 21,
   "metadata": {},
   "outputs": [],
   "source": [
    "result.to_csv('../../data_files/filtered_ground_truth_num_ver_real.csv', index=False)"
   ]
  },
  {
   "cell_type": "code",
   "execution_count": 105,
   "metadata": {},
   "outputs": [
    {
     "name": "stdout",
     "output_type": "stream",
     "text": [
      "     Description  Description_Num\n",
      "0      Accordion                1\n",
      "1  Adhesive tape                2\n",
      "2       Aircraft                3\n",
      "3       Airplane                4\n",
      "4    Alarm clock                5\n"
     ]
    }
   ],
   "source": [
    "mapping_df = pd.DataFrame(list(mapping.items()), columns=['Description', 'Description_Num'])\n",
    "print(mapping_df.head())\n",
    "mapping_df.to_csv('../../data_files/mapping.csv', index=False)"
   ]
  },
  {
   "cell_type": "code",
   "execution_count": null,
   "metadata": {},
   "outputs": [],
   "source": []
  }
 ],
 "metadata": {
  "kernelspec": {
   "display_name": "Python 3",
   "language": "python",
   "name": "python3"
  },
  "language_info": {
   "codemirror_mode": {
    "name": "ipython",
    "version": 3
   },
   "file_extension": ".py",
   "mimetype": "text/x-python",
   "name": "python",
   "nbconvert_exporter": "python",
   "pygments_lexer": "ipython3",
   "version": "3.12.6"
  }
 },
 "nbformat": 4,
 "nbformat_minor": 2
}
