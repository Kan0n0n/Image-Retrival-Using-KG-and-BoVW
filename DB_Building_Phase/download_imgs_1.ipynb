{
 "cells": [
  {
   "cell_type": "code",
   "execution_count": 1,
   "metadata": {},
   "outputs": [],
   "source": [
    "import fiftyone as fo\n",
    "import fiftyone.zoo as foz\n",
    "import fiftyone.utils.image as foui\n",
    "import json"
   ]
  },
  {
   "cell_type": "code",
   "execution_count": 2,
   "metadata": {},
   "outputs": [
    {
     "name": "stdout",
     "output_type": "stream",
     "text": [
      "Downloading split 'train' to 'C:\\Users\\Admin\\fiftyone\\open-images-v7\\train' if necessary\n",
      "Downloading 'https://storage.googleapis.com/openimages/2018_04/train/train-images-boxable-with-rotation.csv' to 'C:\\Users\\Admin\\fiftyone\\open-images-v7\\train\\metadata\\image_ids.csv'\n",
      " 100% |██████|    4.8Gb/4.8Gb [26.7s elapsed, 0s remaining, 222.1Mb/s]      \n",
      "Downloading 'https://storage.googleapis.com/openimages/v5/class-descriptions-boxable.csv' to 'C:\\Users\\Admin\\fiftyone\\open-images-v7\\train\\metadata\\classes.csv'\n",
      "Downloading 'https://storage.googleapis.com/openimages/2018_04/bbox_labels_600_hierarchy.json' to 'C:\\Users\\Admin\\AppData\\Local\\Temp\\tmpv084svd0\\metadata\\hierarchy.json'\n",
      "Downloading 'https://storage.googleapis.com/openimages/v6/oidv6-train-annotations-bbox.csv' to 'C:\\Users\\Admin\\fiftyone\\open-images-v7\\train\\labels\\detections.csv'\n",
      "Downloading 10000 images\n",
      " 100% |███████████████| 10000/10000 [20.6m elapsed, 0s remaining, 8.1 files/s]      \n",
      "Dataset info written to 'C:\\Users\\Admin\\fiftyone\\open-images-v7\\info.json'\n",
      "Ignoring unsupported parameter 'min_samples' for importer type <class 'fiftyone.utils.openimages.OpenImagesV7DatasetImporter'>\n",
      "Loading 'open-images-v7' split 'train'\n",
      " 100% |█████████████| 10000/10000 [1.1m elapsed, 0s remaining, 210.5 samples/s]      \n",
      "Dataset 'open-images-v7-train-10000' created\n"
     ]
    }
   ],
   "source": [
    "dataset = foz.load_zoo_dataset(\n",
    "        \"open-images-v7\",\n",
    "        split=\"train\",\n",
    "        max_samples=10000,\n",
    "        min_samples = 100,\n",
    "        label_types=[\"detections\"],\n",
    "    )"
   ]
  }
 ],
 "metadata": {
  "kernelspec": {
   "display_name": "Python 3",
   "language": "python",
   "name": "python3"
  },
  "language_info": {
   "codemirror_mode": {
    "name": "ipython",
    "version": 3
   },
   "file_extension": ".py",
   "mimetype": "text/x-python",
   "name": "python",
   "nbconvert_exporter": "python",
   "pygments_lexer": "ipython3",
   "version": "3.12.6"
  }
 },
 "nbformat": 4,
 "nbformat_minor": 2
}
