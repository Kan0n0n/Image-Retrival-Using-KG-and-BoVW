{
 "cells": [
  {
   "cell_type": "code",
   "execution_count": 1,
   "metadata": {},
   "outputs": [],
   "source": [
    "import json"
   ]
  },
  {
   "cell_type": "markdown",
   "metadata": {},
   "source": [
    "Load bag of visual word (bovw)"
   ]
  },
  {
   "cell_type": "code",
   "execution_count": 2,
   "metadata": {},
   "outputs": [],
   "source": [
    "list_bovw = []\n",
    "with open(\"../data_files/updated_list_bovw_with_classes.json\") as f:\n",
    "    list_bovw = json.load(f)"
   ]
  },
  {
   "cell_type": "markdown",
   "metadata": {},
   "source": [
    "Retrive classes and frequency from bovw"
   ]
  },
  {
   "cell_type": "code",
   "execution_count": 3,
   "metadata": {},
   "outputs": [],
   "source": [
    "list_classes = []\n",
    "for bowv in list_bovw:\n",
    "    list_classes.append({\n",
    "        \"Class\": bowv[\"Class\"],\n",
    "        \"Count\": bowv[\"Object Count\"]\n",
    "    })\n"
   ]
  },
  {
   "cell_type": "markdown",
   "metadata": {},
   "source": [
    "Test it out"
   ]
  },
  {
   "cell_type": "code",
   "execution_count": 5,
   "metadata": {},
   "outputs": [
    {
     "name": "stdout",
     "output_type": "stream",
     "text": [
      "{'Class': 'Accordion', 'Count': 78}\n",
      "{'Class': 'Adhesive tape', 'Count': 3}\n",
      "601\n"
     ]
    }
   ],
   "source": [
    "print(list_classes[0])\n",
    "print(list_classes[1])\n",
    "print(len(list_classes))"
   ]
  },
  {
   "cell_type": "code",
   "execution_count": 9,
   "metadata": {},
   "outputs": [
    {
     "name": "stdout",
     "output_type": "stream",
     "text": [
      "{'Class': 'Aircraft', 'Count': 0}\n",
      "{'Class': 'Armadillo', 'Count': 0}\n",
      "{'Class': 'Axe', 'Count': 0}\n",
      "{'Class': 'Band-aid', 'Count': 0}\n",
      "{'Class': 'Banjo', 'Count': 0}\n",
      "{'Class': 'Binoculars', 'Count': 0}\n",
      "{'Class': 'Blender', 'Count': 0}\n",
      "{'Class': 'Bomb', 'Count': 0}\n",
      "{'Class': 'Bottle opener', 'Count': 0}\n",
      "{'Class': 'Briefcase', 'Count': 0}\n",
      "{'Class': 'Burrito', 'Count': 0}\n",
      "{'Class': 'Can opener', 'Count': 0}\n",
      "{'Class': 'Canary', 'Count': 0}\n",
      "{'Class': 'Cantaloupe', 'Count': 0}\n",
      "{'Class': 'Cassette deck', 'Count': 0}\n",
      "{'Class': 'Chainsaw', 'Count': 0}\n",
      "{'Class': 'Chime', 'Count': 0}\n",
      "{'Class': 'Chisel', 'Count': 0}\n",
      "{'Class': 'Cocktail shaker', 'Count': 0}\n",
      "{'Class': 'Common fig', 'Count': 0}\n",
      "{'Class': 'Container', 'Count': 0}\n",
      "{'Class': 'Cooking spray', 'Count': 0}\n",
      "{'Class': 'Cream', 'Count': 0}\n",
      "{'Class': 'Cricket ball', 'Count': 0}\n",
      "{'Class': 'Crutch', 'Count': 0}\n",
      "{'Class': 'Diaper', 'Count': 0}\n",
      "{'Class': 'Dishwasher', 'Count': 0}\n",
      "{'Class': 'Eraser', 'Count': 0}\n",
      "{'Class': 'Face powder', 'Count': 0}\n",
      "{'Class': 'Facial tissue holder', 'Count': 0}\n",
      "{'Class': 'Fax', 'Count': 0}\n",
      "{'Class': 'Filing cabinet', 'Count': 0}\n",
      "{'Class': 'Flashlight', 'Count': 0}\n",
      "{'Class': 'Food processor', 'Count': 0}\n",
      "{'Class': 'Grinder', 'Count': 0}\n",
      "{'Class': 'Hair dryer', 'Count': 0}\n",
      "{'Class': 'Hair spray', 'Count': 0}\n",
      "{'Class': 'Hand dryer', 'Count': 0}\n",
      "{'Class': 'Harmonica', 'Count': 0}\n",
      "{'Class': 'Heater', 'Count': 0}\n",
      "{'Class': 'Horizontal bar', 'Count': 0}\n",
      "{'Class': 'Human nose', 'Count': 0}\n",
      "{'Class': 'Humidifier', 'Count': 0}\n",
      "{'Class': 'Indoor rower', 'Count': 0}\n",
      "{'Class': 'Kitchen utensil', 'Count': 0}\n",
      "{'Class': 'Kitchenware', 'Count': 0}\n",
      "{'Class': 'Ladle', 'Count': 0}\n",
      "{'Class': 'Loveseat', 'Count': 0}\n",
      "{'Class': 'Magpie', 'Count': 0}\n",
      "{'Class': 'Maracas', 'Count': 0}\n",
      "{'Class': 'Milk', 'Count': 0}\n",
      "{'Class': 'Oboe', 'Count': 0}\n",
      "{'Class': 'Paper cutter', 'Count': 0}\n",
      "{'Class': 'Paper towel', 'Count': 0}\n",
      "{'Class': 'Pencil sharpener', 'Count': 0}\n",
      "{'Class': 'Pizza cutter', 'Count': 0}\n",
      "{'Class': 'Plumbing fixture', 'Count': 0}\n",
      "{'Class': 'Pressure cooker', 'Count': 0}\n",
      "{'Class': 'Racket', 'Count': 0}\n",
      "{'Class': 'Ratchet (Device)', 'Count': 0}\n",
      "{'Class': 'Reptile', 'Count': 0}\n",
      "{'Class': 'Ring binder', 'Count': 0}\n",
      "{'Class': 'Screwdriver', 'Count': 0}\n",
      "{'Class': 'Serving tray', 'Count': 0}\n",
      "{'Class': 'Skunk', 'Count': 0}\n",
      "{'Class': 'Soap dispenser', 'Count': 0}\n",
      "{'Class': 'Spatula', 'Count': 0}\n",
      "{'Class': 'Squash (Plant)', 'Count': 0}\n",
      "{'Class': 'Stapler', 'Count': 0}\n",
      "{'Class': 'Stethoscope', 'Count': 0}\n",
      "{'Class': 'Syringe', 'Count': 0}\n",
      "{'Class': 'Telephone', 'Count': 0}\n",
      "{'Class': 'Toaster', 'Count': 0}\n",
      "{'Class': 'Toothbrush', 'Count': 0}\n",
      "{'Class': 'Torch', 'Count': 0}\n",
      "{'Class': 'Turtle', 'Count': 0}\n",
      "{'Class': 'Waffle iron', 'Count': 0}\n",
      "{'Class': 'Winter melon', 'Count': 0}\n",
      "78\n"
     ]
    }
   ],
   "source": [
    "count = 0\n",
    "for cls in list_classes:\n",
    "    if(cls[\"Count\"] == 0):\n",
    "        count = count + 1\n",
    "        print(cls)\n",
    "print(count)"
   ]
  },
  {
   "cell_type": "markdown",
   "metadata": {},
   "source": [
    "Save this frequency to a new json file"
   ]
  },
  {
   "cell_type": "code",
   "execution_count": 11,
   "metadata": {},
   "outputs": [],
   "source": [
    "with open(\"../data_files/class_frequencies.json\", \"w\") as f:\n",
    "    json.dump(list_classes,f,indent=4)"
   ]
  },
  {
   "cell_type": "code",
   "execution_count": 12,
   "metadata": {},
   "outputs": [],
   "source": [
    "list_classes_with_none_obj = []\n",
    "for cls in list_classes:\n",
    "        if(cls[\"Count\"] == 0):\n",
    "                list_classes_with_none_obj.append(cls)\n",
    "\n",
    "with open(\"../data_files/class_with_none_objs.json\", \"w\") as f:\n",
    "    json.dump(list_classes_with_none_obj, f, indent=4)"
   ]
  }
 ],
 "metadata": {
  "kernelspec": {
   "display_name": "base",
   "language": "python",
   "name": "python3"
  },
  "language_info": {
   "codemirror_mode": {
    "name": "ipython",
    "version": 3
   },
   "file_extension": ".py",
   "mimetype": "text/x-python",
   "name": "python",
   "nbconvert_exporter": "python",
   "pygments_lexer": "ipython3",
   "version": "3.12.7"
  }
 },
 "nbformat": 4,
 "nbformat_minor": 2
}
